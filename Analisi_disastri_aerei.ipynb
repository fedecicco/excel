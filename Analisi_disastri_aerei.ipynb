{
  "nbformat": 4,
  "nbformat_minor": 0,
  "metadata": {
    "colab": {
      "provenance": [],
      "authorship_tag": "ABX9TyMI1M2oWX1SlnofuN89fXWL",
      "include_colab_link": true
    },
    "kernelspec": {
      "name": "python3",
      "display_name": "Python 3"
    },
    "language_info": {
      "name": "python"
    }
  },
  "cells": [
    {
      "cell_type": "markdown",
      "metadata": {
        "id": "view-in-github",
        "colab_type": "text"
      },
      "source": [
        "<a href=\"https://colab.research.google.com/github/fedecicco/excel/blob/main/Analisi_disastri_aerei.ipynb\" target=\"_parent\"><img src=\"https://colab.research.google.com/assets/colab-badge.svg\" alt=\"Open In Colab\"/></a>"
      ]
    },
    {
      "cell_type": "code",
      "execution_count": null,
      "metadata": {
        "id": "FW0Pn1YDKvjY"
      },
      "outputs": [],
      "source": [
        "import matplotlib.pyplot as plt\n",
        "import pandas as pd\n",
        "\n",
        "dataframe = pd.read_csv(\"/content/aviation-accidents.csv\")"
      ]
    },
    {
      "cell_type": "code",
      "source": [
        "dataframe.head()"
      ],
      "metadata": {
        "colab": {
          "base_uri": "https://localhost:8080/",
          "height": 206
        },
        "collapsed": true,
        "id": "sOvtjDVTLKuS",
        "outputId": "0dad46e5-4761-4af9-d8fc-cf3ac4165f72"
      },
      "execution_count": null,
      "outputs": [
        {
          "output_type": "execute_result",
          "data": {
            "text/plain": [
              "        date             type registration       operator fatalities  \\\n",
              "0  date unk.   Antonov An-12B       T-1206  Indonesian AF        NaN   \n",
              "1  date unk.   Antonov An-12B       T-1204  Indonesian AF        NaN   \n",
              "2  date unk.   Antonov An-12B       T-1201  Indonesian AF        NaN   \n",
              "3  date unk.  Antonov An-12BK          NaN      Soviet AF        NaN   \n",
              "4  date unk.  Antonov An-12BP   CCCP-11815      Soviet AF          0   \n",
              "\n",
              "              location          country cat     year  \n",
              "0                  NaN  Unknown country  U1  unknown  \n",
              "1                  NaN  Unknown country  U1  unknown  \n",
              "2                  NaN  Unknown country  U1  unknown  \n",
              "3  Tiksi Airport (IKS)           Russia  A1  unknown  \n",
              "4  Massawa Airport ...          Eritrea  A1  unknown  "
            ],
            "text/html": [
              "\n",
              "  <div id=\"df-133f6e1b-4ef5-47d9-a91f-f8b357c60480\" class=\"colab-df-container\">\n",
              "    <div>\n",
              "<style scoped>\n",
              "    .dataframe tbody tr th:only-of-type {\n",
              "        vertical-align: middle;\n",
              "    }\n",
              "\n",
              "    .dataframe tbody tr th {\n",
              "        vertical-align: top;\n",
              "    }\n",
              "\n",
              "    .dataframe thead th {\n",
              "        text-align: right;\n",
              "    }\n",
              "</style>\n",
              "<table border=\"1\" class=\"dataframe\">\n",
              "  <thead>\n",
              "    <tr style=\"text-align: right;\">\n",
              "      <th></th>\n",
              "      <th>date</th>\n",
              "      <th>type</th>\n",
              "      <th>registration</th>\n",
              "      <th>operator</th>\n",
              "      <th>fatalities</th>\n",
              "      <th>location</th>\n",
              "      <th>country</th>\n",
              "      <th>cat</th>\n",
              "      <th>year</th>\n",
              "    </tr>\n",
              "  </thead>\n",
              "  <tbody>\n",
              "    <tr>\n",
              "      <th>0</th>\n",
              "      <td>date unk.</td>\n",
              "      <td>Antonov An-12B</td>\n",
              "      <td>T-1206</td>\n",
              "      <td>Indonesian AF</td>\n",
              "      <td>NaN</td>\n",
              "      <td>NaN</td>\n",
              "      <td>Unknown country</td>\n",
              "      <td>U1</td>\n",
              "      <td>unknown</td>\n",
              "    </tr>\n",
              "    <tr>\n",
              "      <th>1</th>\n",
              "      <td>date unk.</td>\n",
              "      <td>Antonov An-12B</td>\n",
              "      <td>T-1204</td>\n",
              "      <td>Indonesian AF</td>\n",
              "      <td>NaN</td>\n",
              "      <td>NaN</td>\n",
              "      <td>Unknown country</td>\n",
              "      <td>U1</td>\n",
              "      <td>unknown</td>\n",
              "    </tr>\n",
              "    <tr>\n",
              "      <th>2</th>\n",
              "      <td>date unk.</td>\n",
              "      <td>Antonov An-12B</td>\n",
              "      <td>T-1201</td>\n",
              "      <td>Indonesian AF</td>\n",
              "      <td>NaN</td>\n",
              "      <td>NaN</td>\n",
              "      <td>Unknown country</td>\n",
              "      <td>U1</td>\n",
              "      <td>unknown</td>\n",
              "    </tr>\n",
              "    <tr>\n",
              "      <th>3</th>\n",
              "      <td>date unk.</td>\n",
              "      <td>Antonov An-12BK</td>\n",
              "      <td>NaN</td>\n",
              "      <td>Soviet AF</td>\n",
              "      <td>NaN</td>\n",
              "      <td>Tiksi Airport (IKS)</td>\n",
              "      <td>Russia</td>\n",
              "      <td>A1</td>\n",
              "      <td>unknown</td>\n",
              "    </tr>\n",
              "    <tr>\n",
              "      <th>4</th>\n",
              "      <td>date unk.</td>\n",
              "      <td>Antonov An-12BP</td>\n",
              "      <td>CCCP-11815</td>\n",
              "      <td>Soviet AF</td>\n",
              "      <td>0</td>\n",
              "      <td>Massawa Airport ...</td>\n",
              "      <td>Eritrea</td>\n",
              "      <td>A1</td>\n",
              "      <td>unknown</td>\n",
              "    </tr>\n",
              "  </tbody>\n",
              "</table>\n",
              "</div>\n",
              "    <div class=\"colab-df-buttons\">\n",
              "\n",
              "  <div class=\"colab-df-container\">\n",
              "    <button class=\"colab-df-convert\" onclick=\"convertToInteractive('df-133f6e1b-4ef5-47d9-a91f-f8b357c60480')\"\n",
              "            title=\"Convert this dataframe to an interactive table.\"\n",
              "            style=\"display:none;\">\n",
              "\n",
              "  <svg xmlns=\"http://www.w3.org/2000/svg\" height=\"24px\" viewBox=\"0 -960 960 960\">\n",
              "    <path d=\"M120-120v-720h720v720H120Zm60-500h600v-160H180v160Zm220 220h160v-160H400v160Zm0 220h160v-160H400v160ZM180-400h160v-160H180v160Zm440 0h160v-160H620v160ZM180-180h160v-160H180v160Zm440 0h160v-160H620v160Z\"/>\n",
              "  </svg>\n",
              "    </button>\n",
              "\n",
              "  <style>\n",
              "    .colab-df-container {\n",
              "      display:flex;\n",
              "      gap: 12px;\n",
              "    }\n",
              "\n",
              "    .colab-df-convert {\n",
              "      background-color: #E8F0FE;\n",
              "      border: none;\n",
              "      border-radius: 50%;\n",
              "      cursor: pointer;\n",
              "      display: none;\n",
              "      fill: #1967D2;\n",
              "      height: 32px;\n",
              "      padding: 0 0 0 0;\n",
              "      width: 32px;\n",
              "    }\n",
              "\n",
              "    .colab-df-convert:hover {\n",
              "      background-color: #E2EBFA;\n",
              "      box-shadow: 0px 1px 2px rgba(60, 64, 67, 0.3), 0px 1px 3px 1px rgba(60, 64, 67, 0.15);\n",
              "      fill: #174EA6;\n",
              "    }\n",
              "\n",
              "    .colab-df-buttons div {\n",
              "      margin-bottom: 4px;\n",
              "    }\n",
              "\n",
              "    [theme=dark] .colab-df-convert {\n",
              "      background-color: #3B4455;\n",
              "      fill: #D2E3FC;\n",
              "    }\n",
              "\n",
              "    [theme=dark] .colab-df-convert:hover {\n",
              "      background-color: #434B5C;\n",
              "      box-shadow: 0px 1px 3px 1px rgba(0, 0, 0, 0.15);\n",
              "      filter: drop-shadow(0px 1px 2px rgba(0, 0, 0, 0.3));\n",
              "      fill: #FFFFFF;\n",
              "    }\n",
              "  </style>\n",
              "\n",
              "    <script>\n",
              "      const buttonEl =\n",
              "        document.querySelector('#df-133f6e1b-4ef5-47d9-a91f-f8b357c60480 button.colab-df-convert');\n",
              "      buttonEl.style.display =\n",
              "        google.colab.kernel.accessAllowed ? 'block' : 'none';\n",
              "\n",
              "      async function convertToInteractive(key) {\n",
              "        const element = document.querySelector('#df-133f6e1b-4ef5-47d9-a91f-f8b357c60480');\n",
              "        const dataTable =\n",
              "          await google.colab.kernel.invokeFunction('convertToInteractive',\n",
              "                                                    [key], {});\n",
              "        if (!dataTable) return;\n",
              "\n",
              "        const docLinkHtml = 'Like what you see? Visit the ' +\n",
              "          '<a target=\"_blank\" href=https://colab.research.google.com/notebooks/data_table.ipynb>data table notebook</a>'\n",
              "          + ' to learn more about interactive tables.';\n",
              "        element.innerHTML = '';\n",
              "        dataTable['output_type'] = 'display_data';\n",
              "        await google.colab.output.renderOutput(dataTable, element);\n",
              "        const docLink = document.createElement('div');\n",
              "        docLink.innerHTML = docLinkHtml;\n",
              "        element.appendChild(docLink);\n",
              "      }\n",
              "    </script>\n",
              "  </div>\n",
              "\n",
              "\n",
              "<div id=\"df-7552b152-f27b-4e88-9d81-a297e7f77f8c\">\n",
              "  <button class=\"colab-df-quickchart\" onclick=\"quickchart('df-7552b152-f27b-4e88-9d81-a297e7f77f8c')\"\n",
              "            title=\"Suggest charts\"\n",
              "            style=\"display:none;\">\n",
              "\n",
              "<svg xmlns=\"http://www.w3.org/2000/svg\" height=\"24px\"viewBox=\"0 0 24 24\"\n",
              "     width=\"24px\">\n",
              "    <g>\n",
              "        <path d=\"M19 3H5c-1.1 0-2 .9-2 2v14c0 1.1.9 2 2 2h14c1.1 0 2-.9 2-2V5c0-1.1-.9-2-2-2zM9 17H7v-7h2v7zm4 0h-2V7h2v10zm4 0h-2v-4h2v4z\"/>\n",
              "    </g>\n",
              "</svg>\n",
              "  </button>\n",
              "\n",
              "<style>\n",
              "  .colab-df-quickchart {\n",
              "      --bg-color: #E8F0FE;\n",
              "      --fill-color: #1967D2;\n",
              "      --hover-bg-color: #E2EBFA;\n",
              "      --hover-fill-color: #174EA6;\n",
              "      --disabled-fill-color: #AAA;\n",
              "      --disabled-bg-color: #DDD;\n",
              "  }\n",
              "\n",
              "  [theme=dark] .colab-df-quickchart {\n",
              "      --bg-color: #3B4455;\n",
              "      --fill-color: #D2E3FC;\n",
              "      --hover-bg-color: #434B5C;\n",
              "      --hover-fill-color: #FFFFFF;\n",
              "      --disabled-bg-color: #3B4455;\n",
              "      --disabled-fill-color: #666;\n",
              "  }\n",
              "\n",
              "  .colab-df-quickchart {\n",
              "    background-color: var(--bg-color);\n",
              "    border: none;\n",
              "    border-radius: 50%;\n",
              "    cursor: pointer;\n",
              "    display: none;\n",
              "    fill: var(--fill-color);\n",
              "    height: 32px;\n",
              "    padding: 0;\n",
              "    width: 32px;\n",
              "  }\n",
              "\n",
              "  .colab-df-quickchart:hover {\n",
              "    background-color: var(--hover-bg-color);\n",
              "    box-shadow: 0 1px 2px rgba(60, 64, 67, 0.3), 0 1px 3px 1px rgba(60, 64, 67, 0.15);\n",
              "    fill: var(--button-hover-fill-color);\n",
              "  }\n",
              "\n",
              "  .colab-df-quickchart-complete:disabled,\n",
              "  .colab-df-quickchart-complete:disabled:hover {\n",
              "    background-color: var(--disabled-bg-color);\n",
              "    fill: var(--disabled-fill-color);\n",
              "    box-shadow: none;\n",
              "  }\n",
              "\n",
              "  .colab-df-spinner {\n",
              "    border: 2px solid var(--fill-color);\n",
              "    border-color: transparent;\n",
              "    border-bottom-color: var(--fill-color);\n",
              "    animation:\n",
              "      spin 1s steps(1) infinite;\n",
              "  }\n",
              "\n",
              "  @keyframes spin {\n",
              "    0% {\n",
              "      border-color: transparent;\n",
              "      border-bottom-color: var(--fill-color);\n",
              "      border-left-color: var(--fill-color);\n",
              "    }\n",
              "    20% {\n",
              "      border-color: transparent;\n",
              "      border-left-color: var(--fill-color);\n",
              "      border-top-color: var(--fill-color);\n",
              "    }\n",
              "    30% {\n",
              "      border-color: transparent;\n",
              "      border-left-color: var(--fill-color);\n",
              "      border-top-color: var(--fill-color);\n",
              "      border-right-color: var(--fill-color);\n",
              "    }\n",
              "    40% {\n",
              "      border-color: transparent;\n",
              "      border-right-color: var(--fill-color);\n",
              "      border-top-color: var(--fill-color);\n",
              "    }\n",
              "    60% {\n",
              "      border-color: transparent;\n",
              "      border-right-color: var(--fill-color);\n",
              "    }\n",
              "    80% {\n",
              "      border-color: transparent;\n",
              "      border-right-color: var(--fill-color);\n",
              "      border-bottom-color: var(--fill-color);\n",
              "    }\n",
              "    90% {\n",
              "      border-color: transparent;\n",
              "      border-bottom-color: var(--fill-color);\n",
              "    }\n",
              "  }\n",
              "</style>\n",
              "\n",
              "  <script>\n",
              "    async function quickchart(key) {\n",
              "      const quickchartButtonEl =\n",
              "        document.querySelector('#' + key + ' button');\n",
              "      quickchartButtonEl.disabled = true;  // To prevent multiple clicks.\n",
              "      quickchartButtonEl.classList.add('colab-df-spinner');\n",
              "      try {\n",
              "        const charts = await google.colab.kernel.invokeFunction(\n",
              "            'suggestCharts', [key], {});\n",
              "      } catch (error) {\n",
              "        console.error('Error during call to suggestCharts:', error);\n",
              "      }\n",
              "      quickchartButtonEl.classList.remove('colab-df-spinner');\n",
              "      quickchartButtonEl.classList.add('colab-df-quickchart-complete');\n",
              "    }\n",
              "    (() => {\n",
              "      let quickchartButtonEl =\n",
              "        document.querySelector('#df-7552b152-f27b-4e88-9d81-a297e7f77f8c button');\n",
              "      quickchartButtonEl.style.display =\n",
              "        google.colab.kernel.accessAllowed ? 'block' : 'none';\n",
              "    })();\n",
              "  </script>\n",
              "</div>\n",
              "\n",
              "    </div>\n",
              "  </div>\n"
            ],
            "application/vnd.google.colaboratory.intrinsic+json": {
              "type": "dataframe",
              "variable_name": "dataframe",
              "summary": "{\n  \"name\": \"dataframe\",\n  \"rows\": 23967,\n  \"fields\": [\n    {\n      \"column\": \"date\",\n      \"properties\": {\n        \"dtype\": \"string\",\n        \"num_unique_values\": 15079,\n        \"samples\": [\n          \"02-FEB-1966\",\n          \"03-MAR-1955\",\n          \"30-DEC-2003\"\n        ],\n        \"semantic_type\": \"\",\n        \"description\": \"\"\n      }\n    },\n    {\n      \"column\": \"type\",\n      \"properties\": {\n        \"dtype\": \"category\",\n        \"num_unique_values\": 3201,\n        \"samples\": [\n          \"Learjet 25B\",\n          \"Ilyushin Il-18E\",\n          \"Lockheed NC-130F Hercules\"\n        ],\n        \"semantic_type\": \"\",\n        \"description\": \"\"\n      }\n    },\n    {\n      \"column\": \"registration\",\n      \"properties\": {\n        \"dtype\": \"string\",\n        \"num_unique_values\": 21962,\n        \"samples\": [\n          \"CC-CNW\",\n          \"G-ARLF\",\n          \"9N-ADA\"\n        ],\n        \"semantic_type\": \"\",\n        \"description\": \"\"\n      }\n    },\n    {\n      \"column\": \"operator\",\n      \"properties\": {\n        \"dtype\": \"category\",\n        \"num_unique_values\": 6017,\n        \"samples\": [\n          \"Luxair\",\n          \"Viva Aerobus\",\n          \"Hansa Jet Corp.\"\n        ],\n        \"semantic_type\": \"\",\n        \"description\": \"\"\n      }\n    },\n    {\n      \"column\": \"fatalities\",\n      \"properties\": {\n        \"dtype\": \"category\",\n        \"num_unique_values\": 369,\n        \"samples\": [\n          \"145\",\n          \"26\",\n          \"14+ 1\"\n        ],\n        \"semantic_type\": \"\",\n        \"description\": \"\"\n      }\n    },\n    {\n      \"column\": \"location\",\n      \"properties\": {\n        \"dtype\": \"string\",\n        \"num_unique_values\": 14608,\n        \"samples\": [\n          \"West Deering, NH\",\n          \"Panchkhal\",\n          \"Chicago, New Yor...\"\n        ],\n        \"semantic_type\": \"\",\n        \"description\": \"\"\n      }\n    },\n    {\n      \"column\": \"country\",\n      \"properties\": {\n        \"dtype\": \"category\",\n        \"num_unique_values\": 232,\n        \"samples\": [\n          \"Rwanda\",\n          \"Hungary\",\n          \"Zimbabwe\"\n        ],\n        \"semantic_type\": \"\",\n        \"description\": \"\"\n      }\n    },\n    {\n      \"column\": \"cat\",\n      \"properties\": {\n        \"dtype\": \"category\",\n        \"num_unique_values\": 11,\n        \"samples\": [\n          \"C1\",\n          \"U1\",\n          \"I2\"\n        ],\n        \"semantic_type\": \"\",\n        \"description\": \"\"\n      }\n    },\n    {\n      \"column\": \"year\",\n      \"properties\": {\n        \"dtype\": \"category\",\n        \"num_unique_values\": 106,\n        \"samples\": [\n          \"2018\",\n          \"1928\",\n          \"1922\"\n        ],\n        \"semantic_type\": \"\",\n        \"description\": \"\"\n      }\n    }\n  ]\n}"
            }
          },
          "metadata": {},
          "execution_count": 5
        }
      ]
    },
    {
      "cell_type": "markdown",
      "source": [
        "## DATA PREPARATION & CLEANING"
      ],
      "metadata": {
        "id": "KIkI3xuMnHsp"
      }
    },
    {
      "cell_type": "code",
      "source": [
        "columns = ['date', 'type', 'registration', 'operator', 'location', 'country', 'cat', 'year']\n",
        "\n",
        "for column in columns:\n",
        "    print(f\"Unique values in column {column}:\")\n",
        "    print(dataframe[column].unique())\n",
        "    print(\"\\n\")\n"
      ],
      "metadata": {
        "colab": {
          "base_uri": "https://localhost:8080/"
        },
        "id": "fsJyB-ZvnP5c",
        "outputId": "5fdbce97-5883-4673-bde8-18d6df479d2a"
      },
      "execution_count": null,
      "outputs": [
        {
          "output_type": "stream",
          "name": "stdout",
          "text": [
            "Unique values in column date:\n",
            "['date unk.' '02-AUG-1919' '11-AUG-1919' ... '12-MAY-2023' '14-MAY-2023'\n",
            " '15-MAY-2023']\n",
            "\n",
            "\n",
            "Unique values in column type:\n",
            "['Antonov An-12B' 'Antonov An-12BK' 'Antonov An-12BP' ...\n",
            " 'Antonov An-72-100D' 'Boeing 737-33A (SF)' 'Boeing 777-233LR']\n",
            "\n",
            "\n",
            "Unique values in column registration:\n",
            "['T-1206' 'T-1204' 'T-1201' ... 'PK-NGA' '5X-RBR' 'D-CGFQ']\n",
            "\n",
            "\n",
            "Unique values in column operator:\n",
            "['Indonesian AF' 'Soviet AF' 'GUSMP, Directorate of Polar Aviation' ...\n",
            " 'Angkasa Super Services' 'Nasional Global Aviasi' 'Bar Aviation']\n",
            "\n",
            "\n",
            "Unique values in column location:\n",
            "[nan 'Tiksi Airport (IKS)' 'Massawa Airport ...' ... 'Fentheik Airstrip'\n",
            " 'Kampala-Kajjansi...' 'Hohn Air Base']\n",
            "\n",
            "\n",
            "Unique values in column country:\n",
            "['Unknown country' 'Russia' 'Eritrea' 'Libya' 'Poland' '?' 'India'\n",
            " 'Bulgaria' 'Bahamas' 'Zimbabwe' 'Mauritania' 'Cyprus' 'Mexico'\n",
            " 'New Caledonia' 'Honduras' 'Peru' 'Kenya' 'Antarctica' 'Latvia' 'Yemen'\n",
            " 'Ukraine' 'France' 'Liberia' 'Italy' 'U.K.' 'South Africa' 'Sudan'\n",
            " 'Sweden' 'Cuba' 'Belgium' 'China' 'Atlantic Ocean' 'Netherlands'\n",
            " 'Germany' 'USA' 'Iran' 'Chile' 'Israel' 'Argentina' 'P.N. Guinea'\n",
            " 'Nicaragua' 'Czech Rep.' 'Dominican Rep.' 'Brazil' 'Mediterranean Sea'\n",
            " 'Indonesia' 'Egypt' 'Bolivia' 'Spain' 'Australia' 'Iraq' 'Guatemala'\n",
            " 'Malta' 'Colombia' 'Switzerland' 'Austria' 'Uganda' 'Trinidad & Tobago'\n",
            " 'Norway' 'Greece' 'Algeria' 'Pakistan' 'Panama' 'Romania' 'Morocco'\n",
            " 'Pacific Ocean' 'Hungary' 'Jamaica' 'Japan' 'Canada' 'Gambia' 'Thailand'\n",
            " 'Philippines' 'Ecuador' 'Puerto Rico' 'Venezuela' 'Mozambique'\n",
            " 'Singapore' 'Myanmar' 'Djibouti' 'Gibraltar' 'Costa Rica' 'Indian Ocean'\n",
            " 'Denmark' 'Finland' 'Estonia' 'Vietnam' 'Tanzania' 'Iceland' 'Benin'\n",
            " 'Portugal' 'Uzbekistan' 'Ethiopia' 'North Macedonia' 'Nigeria' 'Belarus'\n",
            " 'Turkmenistan' 'Sierra Leone' 'Ireland' 'Hong Kong' 'Kazakhstan'\n",
            " 'Bangladesh' 'Taiwan' 'Saint Lucia' 'U.S. M.O. Islands' 'Vanuatu'\n",
            " 'Turkey' 'Serbia' 'Greenland' 'French Polynesia' 'C.A.R.' 'Bermuda'\n",
            " 'Mali' 'Suriname' 'Tunisia' 'Kiribati' 'Ghana' 'Armenia' 'Solomon Isl.'\n",
            " 'Somalia' 'St. Helena' 'U.A.E.' 'Oman' 'New Zealand' 'Croatia' 'Fiji'\n",
            " 'Montenegro' 'Albania' 'Sri Lanka' 'Guyana' 'Maldives' 'Bahrain'\n",
            " 'Slovakia' 'Palau' 'Micronesia' 'Marshall Isl.' 'Azerbaijan' 'Guam'\n",
            " 'Luxembourg' 'Senegal' 'D.R. Congo' 'Bhutan' 'Eq. Guinea' 'Bosnia'\n",
            " 'Northern Mariana Isl' 'Malaysia' 'Tajikistan' 'Cocos Isl.' 'Martinique'\n",
            " 'Uruguay' 'Cambodia' 'Tuvalu' 'Lebanon' \"Cote d'Ivoire\" 'Madagascar'\n",
            " 'South Korea' 'Nepal' 'Slovenia' 'Zambia' 'Georgia' 'South Sudan'\n",
            " 'El Salvador' 'Niger' 'Syria' 'Cameroon' 'U.S. Virgin Isl.'\n",
            " 'Burkina Faso' 'Angola' 'North Korea' 'Saudi Arabia' 'Arctic Ocean'\n",
            " 'Samoa' 'Laos' 'Jordan' 'Chad' 'Cayman Isl.' 'Christmas Isl.' 'Kuwait'\n",
            " 'Paraguay' 'Malawi' 'Haiti' 'St. Kitts & Nevis' 'Cape Verde' 'Lithuania'\n",
            " 'Mauritius' 'St.Pierre & Miquelon' 'CuraÃ§ao' 'Afghanistan' 'Belize'\n",
            " 'Guadeloupe' 'Sao Tome' 'Turks & Caicos' 'Mongolia' 'Moldova' 'Botswana'\n",
            " 'Kyrgyzstan' 'Montserrat' 'Falkland Isl.' 'Comoros' 'Reunion' 'Namibia'\n",
            " 'Guinea-Bissau' 'B.V.I.' 'Gabon' 'Monaco' 'Sint Maarten' 'Togo'\n",
            " 'American Samoa' 'Timor' 'Tonga' 'Seychelles' 'Aruba' 'Barbados' 'Qatar'\n",
            " 'Western Sahara' 'Congo' 'Guinea' 'Lesotho' 'St. Vincent' 'Rwanda'\n",
            " 'Cook Isl.' 'Dominica' 'French Guiana' 'Antigua' 'Norfolk Island'\n",
            " 'Kosovo' 'Anguilla' 'Saint BarthÃ©lemy' 'Burundi' 'Eswatini'\n",
            " \"Caribbean Neth'lands\" 'Macau']\n",
            "\n",
            "\n",
            "Unique values in column cat:\n",
            "['U1' 'A1' 'A2' 'O1' 'H2' 'C1' 'C2' 'H1' 'O2' 'I2' 'I1']\n",
            "\n",
            "\n",
            "Unique values in column year:\n",
            "['unknown' '1919' '1920' '1921' '1922' '1923' '1924' '1925' '1926' '1927'\n",
            " '1928' '1929' '1930' '1931' '1932' '1933' '1934' '1935' '1936' '1937'\n",
            " '1938' '1939' '1940' '1941' '1942' '1943' '1944' '1945' '1946' '1947'\n",
            " '1948' '1949' '1950' '1951' '1952' '1953' '1954' '1955' '1956' '1957'\n",
            " '1958' '1959' '1960' '1961' '1962' '1963' '1964' '1965' '1966' '1967'\n",
            " '1968' '1969' '1970' '1971' '1972' '1973' '1974' '1975' '1976' '1977'\n",
            " '1978' '1979' '1980' '1981' '1982' '1983' '1984' '1985' '1986' '1987'\n",
            " '1988' '1989' '1990' '1991' '1992' '1993' '1994' '1995' '1996' '1997'\n",
            " '1998' '1999' '2000' '2001' '2002' '2003' '2004' '2005' '2006' '2007'\n",
            " '2008' '2009' '2010' '2011' '2012' '2013' '2014' '2015' '2016' '2017'\n",
            " '2018' '2019' '2020' '2021' '2022' '2023']\n",
            "\n",
            "\n"
          ]
        }
      ]
    },
    {
      "cell_type": "code",
      "source": [
        "dataframe.info()"
      ],
      "metadata": {
        "colab": {
          "base_uri": "https://localhost:8080/"
        },
        "id": "P43LBXvVr3o7",
        "outputId": "720eb2ee-1bd2-4b86-e473-541e86a0b229"
      },
      "execution_count": null,
      "outputs": [
        {
          "output_type": "stream",
          "name": "stdout",
          "text": [
            "<class 'pandas.core.frame.DataFrame'>\n",
            "RangeIndex: 23967 entries, 0 to 23966\n",
            "Data columns (total 9 columns):\n",
            " #   Column        Non-Null Count  Dtype \n",
            "---  ------        --------------  ----- \n",
            " 0   date          23967 non-null  object\n",
            " 1   type          23967 non-null  object\n",
            " 2   registration  22419 non-null  object\n",
            " 3   operator      23963 non-null  object\n",
            " 4   fatalities    20029 non-null  object\n",
            " 5   location      23019 non-null  object\n",
            " 6   country       23967 non-null  object\n",
            " 7   cat           23967 non-null  object\n",
            " 8   year          23967 non-null  object\n",
            "dtypes: object(9)\n",
            "memory usage: 1.6+ MB\n"
          ]
        }
      ]
    },
    {
      "cell_type": "code",
      "source": [
        "import numpy as np\n",
        "dataframe['year'] = dataframe['year'].apply(lambda x: x if x != \"unknown\" else np.nan)\n",
        "dataframe['country']=dataframe['country'].apply(lambda x: x if x != \"Unknown country\" else np.nan)\n",
        "dataframe['date'] = dataframe['country'].apply(lambda x: x if x!=\"date unk.\" else np.nan) #dataframe[dataframe[dataframe['date'] != \"date unk.\"]]\n",
        "\n",
        "dataframe = dataframe.dropna()"
      ],
      "metadata": {
        "id": "NDalhkJAoDlU"
      },
      "execution_count": null,
      "outputs": []
    },
    {
      "cell_type": "code",
      "source": [
        "dataframe.info()"
      ],
      "metadata": {
        "colab": {
          "base_uri": "https://localhost:8080/"
        },
        "id": "s4ZtaOqDxC1v",
        "outputId": "d74e5815-fa92-4ba6-937d-ad99a1759102"
      },
      "execution_count": null,
      "outputs": [
        {
          "output_type": "stream",
          "name": "stdout",
          "text": [
            "<class 'pandas.core.frame.DataFrame'>\n",
            "Index: 18595 entries, 62 to 23966\n",
            "Data columns (total 9 columns):\n",
            " #   Column        Non-Null Count  Dtype \n",
            "---  ------        --------------  ----- \n",
            " 0   date          18595 non-null  object\n",
            " 1   type          18595 non-null  object\n",
            " 2   registration  18595 non-null  object\n",
            " 3   operator      18595 non-null  object\n",
            " 4   fatalities    18595 non-null  object\n",
            " 5   location      18595 non-null  object\n",
            " 6   country       18595 non-null  object\n",
            " 7   cat           18595 non-null  object\n",
            " 8   year          18595 non-null  object\n",
            "dtypes: object(9)\n",
            "memory usage: 1.4+ MB\n"
          ]
        }
      ]
    },
    {
      "cell_type": "code",
      "source": [
        "dataframe['fatalities'].unique()"
      ],
      "metadata": {
        "id": "kV_sHN17xIcN",
        "colab": {
          "base_uri": "https://localhost:8080/"
        },
        "outputId": "1eb6d8a9-1bab-4b6c-fb78-01e6ad88567b"
      },
      "execution_count": null,
      "outputs": [
        {
          "output_type": "execute_result",
          "data": {
            "text/plain": [
              "array(['1', '0', '4', '2', '5', '6', '3', '7', '14', '5+ 1', '8', '16',\n",
              "       '12', '9', '15', '10', '11', '35+ 9', '13', '2+ 2', '17', '19',\n",
              "       '20', '0+ 1', '18', '13+ 1', '25', '29', '23', '5+ 7', '36', '26',\n",
              "       '22', '12+ 1', '21', '7+ 6', '35', '24', '32', '27', '31', '2+ 1',\n",
              "       '34', '28', '20+ 5', '0+ 2', '30', '41', '59', '13+ 7', '45', '44',\n",
              "       '37', '3+ 5', '4+ 6', '30+ 1', '19+ 1', '39', '11+ 1', '43', '53',\n",
              "       '0+ 3', '50', '14+ 3', '3+ 1', '52', '8+ 1', '5+ 3', '40', '0+ 6',\n",
              "       '8+ 2', '33', '48', '55', '1+ 1', '38', '0+ 7', '32+ 1', '13+ 2',\n",
              "       '80', '1+ 2', '46', '58', '51', '10+ 3', '56', '23+ 7', '29+ 4',\n",
              "       '2+ 3', '5+ 2', '87', '129', '42', '5+ 10', '35+ 1', '47', '66',\n",
              "       '1+ 4', '5+ 4', '14+ 1', '74', '70', '62', '17+ 1', '4+ 3',\n",
              "       '18+ 2', '20+ 2', '67', '79', '5+ 6', '6+ 1', '61', '41+ 1',\n",
              "       '21+ 2', '99', '64', '3+ 4', '65', '1+ 9', '68', '54', '3+ 8',\n",
              "       '32+ 10', '6+ 2', '63', '7+ 1', '84+ 6', '20+ 32', '6+ 3', '72+ 1',\n",
              "       '78', '72', '27+ 3', '83', '77', '95', '111', '107', '130', '113',\n",
              "       '84', '94', '81', '86', '97', '6+ 7', '14+ 87', '7+ 2', '3+ 2',\n",
              "       '101', '15+ 1', '118', '85', '49', '79+ 1', '57', '7+ 22', '121',\n",
              "       '3+ 11', '11+ 3', '117', '133', '124', '98', '0+ 4', '82',\n",
              "       '4+ 107', '51+ 5', '4+ 7', '6+ 13', '126', '88', '102', '21+ 1',\n",
              "       '123', '155', '29+ 1', '57+ 1', '27+ 1', '48+ 2', '10+ 1',\n",
              "       '84+ 71', '100', '4+ 4', '74+ 2', '90', '10+ 24', '92', '1+ 5',\n",
              "       '112', '109', '99+ 2', '75', '162', '69', '91', '104', '16+ 1',\n",
              "       '115', '8+ 25', '122', '82+ 4', '156', '174', '60', '43+ 2', '176',\n",
              "       '108', '6+ 8', '2+ 7', '3+ 6', '106', '346', '191', '138', '1+ 3',\n",
              "       '188', '25+ 1', '6+ 5', '61+ 1', '45+ 1', '76', '154', '73',\n",
              "       '3+ 88', '52+ 19', '335', '248', '63+ 9', '131', '213', '15+ 17',\n",
              "       '135+ 7', '183', '77+ 1', '1+ 32', '271+ 2', '257', '128', '3+ 3',\n",
              "       '146', '166', '301', '89', '110', '180', '74+ 4', '137', '132',\n",
              "       '145+ 8', '4+ 1', '8+ 9', '119', '269', '181', '3+ 22', '4+ 49',\n",
              "       '174+ 4', '148', '329', '200', '134+ 1', '520', '256', '167',\n",
              "       '64+ 15', '5+ 44', '154+ 2', '159', '9+ 8', '143', '290', '44+ 2',\n",
              "       '259+ 11', '144', '0+ 8', '75+ 4', '126+ 24', '170', '4+ 2',\n",
              "       '3+ 24', '21+ 4', '223', '261', '133+ 2', '15+ 2', '5+ 12',\n",
              "       '46+ 6', '24+ 4', '4+ 39', '141', '157', '116', '124+ 1', '4+ 5',\n",
              "       '0+ 23', '264', '160', '71', '0+ 237', '4+ 18', '189', '230',\n",
              "       '4+ 23', '95+ 4', '312', '125', '16+ 2', '228', '234', '23+ 45',\n",
              "       '196+ 7', '70+ 10', '229', '11+ 13', '18+ 3', '63+ 2', '217',\n",
              "       '169', '42+ 7', '55+ 5', '109+ 4', '8+ 6', '145', '92+ 1600',\n",
              "       '65+ 900', '64+ 125', '110+ 4', '260+ 5', '73+ 30', '225', '275',\n",
              "       '20+ 13', '53+ 2', '105', '100+ 49', '94+ 12', '96', '114', '3+ 7',\n",
              "       '187+ 12', '21+ 28', '2+ 6', '3+ 37', '9+ 7', '49+ 1', '97+ 2',\n",
              "       '152', '168', '103', '158', '8+ 3', '9+ 14', '127', '0+ 10',\n",
              "       '153+ 6', '7+ 4', '7+ 25', '239', '298', '150', '122+ 17', '224',\n",
              "       '4+ 35', '5+ 14', '21+ 6', '97+ 1', '50+ 3'], dtype=object)"
            ]
          },
          "metadata": {},
          "execution_count": 12
        }
      ]
    },
    {
      "cell_type": "code",
      "source": [
        "for value in dataframe['fatalities']:\n",
        "    if str(\"+\") in value:\n",
        "      x,y=value.split(\"+\")\n",
        "      x=int(x)\n",
        "      y=int(y)\n",
        "      z=x+y\n",
        "      dataframe['fatalities']=dataframe['fatalities'].replace(value,z)\n",
        "\n",
        "dataframe['fatalities'] = pd.to_numeric(dataframe['fatalities'], errors='coerce')"
      ],
      "metadata": {
        "id": "pAwsuv33LRKZ"
      },
      "execution_count": null,
      "outputs": []
    },
    {
      "cell_type": "code",
      "source": [
        "dataframe['fatalities'].unique()"
      ],
      "metadata": {
        "colab": {
          "base_uri": "https://localhost:8080/"
        },
        "id": "uXLlzNIZu9EJ",
        "outputId": "128a3004-cce4-4631-a0d9-388b29b4056a"
      },
      "execution_count": null,
      "outputs": [
        {
          "output_type": "execute_result",
          "data": {
            "text/plain": [
              "array([   1,    0,    4,    2,    5,    6,    3,    7,   14,    8,   16,\n",
              "         12,    9,   15,   10,   11,   44,   13,   17,   19,   20,   18,\n",
              "         25,   29,   23,   36,   26,   22,   21,   35,   24,   32,   27,\n",
              "         31,   34,   28,   30,   41,   59,   45,   37,   39,   43,   53,\n",
              "         50,   52,   40,   33,   48,   55,   38,   80,   46,   58,   51,\n",
              "         56,   87,  129,   42,   47,   66,   74,   70,   62,   67,   79,\n",
              "         61,   99,   64,   65,   68,   54,   63,   90,   73,   78,   72,\n",
              "         83,   77,   95,  111,  107,  130,  113,   84,   94,   81,   86,\n",
              "         97,  101,  118,   85,   49,   57,  121,  117,  133,  124,   98,\n",
              "         82,  126,   88,  102,  123,  155,  100,   76,   92,  112,  109,\n",
              "         75,  162,   69,   91,  104,  115,  122,  156,  174,   60,  176,\n",
              "        108,  106,  346,  191,  138,  188,  154,   71,  335,  248,  131,\n",
              "        213,  142,  183,  273,  257,  128,  146,  166,  301,   89,  110,\n",
              "        180,  137,  132,  153,  119,  269,  181,  178,  148,  329,  200,\n",
              "        135,  520,  256,  167,  159,  143,  290,  270,  144,  150,  170,\n",
              "        223,  261,  141,  157,  116,  125,  264,  160,  237,  189,  230,\n",
              "        312,  228,  234,  203,  229,  217,  169,  145, 1692,  965,  114,\n",
              "        265,  103,  225,  275,  105,  149,   96,  199,  152,  168,  158,\n",
              "        127,  239,  298,  139,  224])"
            ]
          },
          "metadata": {},
          "execution_count": 14
        }
      ]
    },
    {
      "cell_type": "markdown",
      "source": [
        "## Numero totale di morti per incidenti dal **1919**"
      ],
      "metadata": {
        "id": "8IvGPGONwUAy"
      }
    },
    {
      "cell_type": "code",
      "source": [
        "sum_fatalities = dataframe['fatalities'].sum()\n",
        "sum_fatalities"
      ],
      "metadata": {
        "colab": {
          "base_uri": "https://localhost:8080/"
        },
        "id": "h6m8huZ-NlVJ",
        "outputId": "98800b51-2579-4040-ed4c-58145b64ecc3"
      },
      "execution_count": null,
      "outputs": [
        {
          "output_type": "execute_result",
          "data": {
            "text/plain": [
              "128367"
            ]
          },
          "metadata": {},
          "execution_count": 15
        }
      ]
    },
    {
      "cell_type": "markdown",
      "source": [
        "## Numero totale di morti per categoria"
      ],
      "metadata": {
        "id": "pvMIJfqQwmw1"
      }
    },
    {
      "cell_type": "code",
      "source": [
        "dataframe_grouped_bycat = dataframe['fatalities'].groupby(dataframe['cat']).sum()\n",
        "dataframe_grouped_bycat"
      ],
      "metadata": {
        "colab": {
          "base_uri": "https://localhost:8080/",
          "height": 460
        },
        "id": "oSKJlnxcM9A8",
        "outputId": "dba8e95f-39a4-4ebf-9ddc-790e262b43fd"
      },
      "execution_count": null,
      "outputs": [
        {
          "output_type": "execute_result",
          "data": {
            "text/plain": [
              "cat\n",
              "A1    116092\n",
              "A2       150\n",
              "C1      8308\n",
              "C2        51\n",
              "H1      3592\n",
              "H2        97\n",
              "I1         0\n",
              "I2         0\n",
              "O1        75\n",
              "O2         2\n",
              "U1         0\n",
              "Name: fatalities, dtype: int64"
            ],
            "text/html": [
              "<div>\n",
              "<style scoped>\n",
              "    .dataframe tbody tr th:only-of-type {\n",
              "        vertical-align: middle;\n",
              "    }\n",
              "\n",
              "    .dataframe tbody tr th {\n",
              "        vertical-align: top;\n",
              "    }\n",
              "\n",
              "    .dataframe thead th {\n",
              "        text-align: right;\n",
              "    }\n",
              "</style>\n",
              "<table border=\"1\" class=\"dataframe\">\n",
              "  <thead>\n",
              "    <tr style=\"text-align: right;\">\n",
              "      <th></th>\n",
              "      <th>fatalities</th>\n",
              "    </tr>\n",
              "    <tr>\n",
              "      <th>cat</th>\n",
              "      <th></th>\n",
              "    </tr>\n",
              "  </thead>\n",
              "  <tbody>\n",
              "    <tr>\n",
              "      <th>A1</th>\n",
              "      <td>116092</td>\n",
              "    </tr>\n",
              "    <tr>\n",
              "      <th>A2</th>\n",
              "      <td>150</td>\n",
              "    </tr>\n",
              "    <tr>\n",
              "      <th>C1</th>\n",
              "      <td>8308</td>\n",
              "    </tr>\n",
              "    <tr>\n",
              "      <th>C2</th>\n",
              "      <td>51</td>\n",
              "    </tr>\n",
              "    <tr>\n",
              "      <th>H1</th>\n",
              "      <td>3592</td>\n",
              "    </tr>\n",
              "    <tr>\n",
              "      <th>H2</th>\n",
              "      <td>97</td>\n",
              "    </tr>\n",
              "    <tr>\n",
              "      <th>I1</th>\n",
              "      <td>0</td>\n",
              "    </tr>\n",
              "    <tr>\n",
              "      <th>I2</th>\n",
              "      <td>0</td>\n",
              "    </tr>\n",
              "    <tr>\n",
              "      <th>O1</th>\n",
              "      <td>75</td>\n",
              "    </tr>\n",
              "    <tr>\n",
              "      <th>O2</th>\n",
              "      <td>2</td>\n",
              "    </tr>\n",
              "    <tr>\n",
              "      <th>U1</th>\n",
              "      <td>0</td>\n",
              "    </tr>\n",
              "  </tbody>\n",
              "</table>\n",
              "</div><br><label><b>dtype:</b> int64</label>"
            ]
          },
          "metadata": {},
          "execution_count": 18
        }
      ]
    },
    {
      "cell_type": "code",
      "source": [
        "plt.bar(dataframe_grouped_bycat.index, dataframe_grouped_bycat.values)\n",
        "plt.xlabel(\"category\")\n",
        "plt.ylabel(\"fatalities\")\n",
        "plt.title(\"Fatalities by category\")\n",
        "plt.show()"
      ],
      "metadata": {
        "colab": {
          "base_uri": "https://localhost:8080/",
          "height": 472
        },
        "id": "V0tr-mmNXKpI",
        "outputId": "2a373d8e-84cc-454e-b9b7-467b0442dba8"
      },
      "execution_count": null,
      "outputs": [
        {
          "output_type": "display_data",
          "data": {
            "text/plain": [
              "<Figure size 640x480 with 1 Axes>"
            ],
            "image/png": "[encoded data removed]"
          },
          "metadata": {}
        }
      ]
    },
    {
      "cell_type": "markdown",
      "source": [
        "##Top 5 Incidenti con maggior numero di morti"
      ],
      "metadata": {
        "id": "tmpasefPBmgs"
      }
    },
    {
      "cell_type": "code",
      "source": [
        "dataframe.sort_values(by='fatalities', ascending=False).head(5)"
      ],
      "metadata": {
        "id": "4kLxOtwJwJZt",
        "colab": {
          "base_uri": "https://localhost:8080/",
          "height": 206
        },
        "outputId": "f6231520-978b-4709-fab1-217e4f5b1ac7"
      },
      "execution_count": null,
      "outputs": [
        {
          "output_type": "execute_result",
          "data": {
            "text/plain": [
              "         date              type registration           operator  fatalities  \\\n",
              "19403     USA  Boeing 767-223ER       N334AA  American Airlines        1692   \n",
              "19404     USA    Boeing 767-222       N612UA    United Airlines         965   \n",
              "15484   Japan   Boeing 747SR-46       JA8119                JAL         520   \n",
              "12694  France          DC-10-10       TC-JAV                THY         346   \n",
              "13460   Spain    Boeing 747-121       N736PA             Pan Am         335   \n",
              "\n",
              "                       location country cat  year  \n",
              "19403              New York, NY     USA  H1  2001  \n",
              "19404              New York, NY     USA  H1  2001  \n",
              "15484  near Ueno Village, Ta...   Japan  A1  1985  \n",
              "12694       Bois d'Ermenonville  France  A1  1974  \n",
              "13460       Tenerife-Los Rod...   Spain  A1  1977  "
            ],
            "text/html": [
              "\n",
              "  <div id=\"df-78187ee4-eff3-43df-8014-de49690b2ff1\" class=\"colab-df-container\">\n",
              "    <div>\n",
              "<style scoped>\n",
              "    .dataframe tbody tr th:only-of-type {\n",
              "        vertical-align: middle;\n",
              "    }\n",
              "\n",
              "    .dataframe tbody tr th {\n",
              "        vertical-align: top;\n",
              "    }\n",
              "\n",
              "    .dataframe thead th {\n",
              "        text-align: right;\n",
              "    }\n",
              "</style>\n",
              "<table border=\"1\" class=\"dataframe\">\n",
              "  <thead>\n",
              "    <tr style=\"text-align: right;\">\n",
              "      <th></th>\n",
              "      <th>date</th>\n",
              "      <th>type</th>\n",
              "      <th>registration</th>\n",
              "      <th>operator</th>\n",
              "      <th>fatalities</th>\n",
              "      <th>location</th>\n",
              "      <th>country</th>\n",
              "      <th>cat</th>\n",
              "      <th>year</th>\n",
              "    </tr>\n",
              "  </thead>\n",
              "  <tbody>\n",
              "    <tr>\n",
              "      <th>19403</th>\n",
              "      <td>USA</td>\n",
              "      <td>Boeing 767-223ER</td>\n",
              "      <td>N334AA</td>\n",
              "      <td>American Airlines</td>\n",
              "      <td>1692</td>\n",
              "      <td>New York, NY</td>\n",
              "      <td>USA</td>\n",
              "      <td>H1</td>\n",
              "      <td>2001</td>\n",
              "    </tr>\n",
              "    <tr>\n",
              "      <th>19404</th>\n",
              "      <td>USA</td>\n",
              "      <td>Boeing 767-222</td>\n",
              "      <td>N612UA</td>\n",
              "      <td>United Airlines</td>\n",
              "      <td>965</td>\n",
              "      <td>New York, NY</td>\n",
              "      <td>USA</td>\n",
              "      <td>H1</td>\n",
              "      <td>2001</td>\n",
              "    </tr>\n",
              "    <tr>\n",
              "      <th>15484</th>\n",
              "      <td>Japan</td>\n",
              "      <td>Boeing 747SR-46</td>\n",
              "      <td>JA8119</td>\n",
              "      <td>JAL</td>\n",
              "      <td>520</td>\n",
              "      <td>near Ueno Village, Ta...</td>\n",
              "      <td>Japan</td>\n",
              "      <td>A1</td>\n",
              "      <td>1985</td>\n",
              "    </tr>\n",
              "    <tr>\n",
              "      <th>12694</th>\n",
              "      <td>France</td>\n",
              "      <td>DC-10-10</td>\n",
              "      <td>TC-JAV</td>\n",
              "      <td>THY</td>\n",
              "      <td>346</td>\n",
              "      <td>Bois d'Ermenonville</td>\n",
              "      <td>France</td>\n",
              "      <td>A1</td>\n",
              "      <td>1974</td>\n",
              "    </tr>\n",
              "    <tr>\n",
              "      <th>13460</th>\n",
              "      <td>Spain</td>\n",
              "      <td>Boeing 747-121</td>\n",
              "      <td>N736PA</td>\n",
              "      <td>Pan Am</td>\n",
              "      <td>335</td>\n",
              "      <td>Tenerife-Los Rod...</td>\n",
              "      <td>Spain</td>\n",
              "      <td>A1</td>\n",
              "      <td>1977</td>\n",
              "    </tr>\n",
              "  </tbody>\n",
              "</table>\n",
              "</div>\n",
              "    <div class=\"colab-df-buttons\">\n",
              "\n",
              "  <div class=\"colab-df-container\">\n",
              "    <button class=\"colab-df-convert\" onclick=\"convertToInteractive('df-78187ee4-eff3-43df-8014-de49690b2ff1')\"\n",
              "            title=\"Convert this dataframe to an interactive table.\"\n",
              "            style=\"display:none;\">\n",
              "\n",
              "  <svg xmlns=\"http://www.w3.org/2000/svg\" height=\"24px\" viewBox=\"0 -960 960 960\">\n",
              "    <path d=\"M120-120v-720h720v720H120Zm60-500h600v-160H180v160Zm220 220h160v-160H400v160Zm0 220h160v-160H400v160ZM180-400h160v-160H180v160Zm440 0h160v-160H620v160ZM180-180h160v-160H180v160Zm440 0h160v-160H620v160Z\"/>\n",
              "  </svg>\n",
              "    </button>\n",
              "\n",
              "  <style>\n",
              "    .colab-df-container {\n",
              "      display:flex;\n",
              "      gap: 12px;\n",
              "    }\n",
              "\n",
              "    .colab-df-convert {\n",
              "      background-color: #E8F0FE;\n",
              "      border: none;\n",
              "      border-radius: 50%;\n",
              "      cursor: pointer;\n",
              "      display: none;\n",
              "      fill: #1967D2;\n",
              "      height: 32px;\n",
              "      padding: 0 0 0 0;\n",
              "      width: 32px;\n",
              "    }\n",
              "\n",
              "    .colab-df-convert:hover {\n",
              "      background-color: #E2EBFA;\n",
              "      box-shadow: 0px 1px 2px rgba(60, 64, 67, 0.3), 0px 1px 3px 1px rgba(60, 64, 67, 0.15);\n",
              "      fill: #174EA6;\n",
              "    }\n",
              "\n",
              "    .colab-df-buttons div {\n",
              "      margin-bottom: 4px;\n",
              "    }\n",
              "\n",
              "    [theme=dark] .colab-df-convert {\n",
              "      background-color: #3B4455;\n",
              "      fill: #D2E3FC;\n",
              "    }\n",
              "\n",
              "    [theme=dark] .colab-df-convert:hover {\n",
              "      background-color: #434B5C;\n",
              "      box-shadow: 0px 1px 3px 1px rgba(0, 0, 0, 0.15);\n",
              "      filter: drop-shadow(0px 1px 2px rgba(0, 0, 0, 0.3));\n",
              "      fill: #FFFFFF;\n",
              "    }\n",
              "  </style>\n",
              "\n",
              "    <script>\n",
              "      const buttonEl =\n",
              "        document.querySelector('#df-78187ee4-eff3-43df-8014-de49690b2ff1 button.colab-df-convert');\n",
              "      buttonEl.style.display =\n",
              "        google.colab.kernel.accessAllowed ? 'block' : 'none';\n",
              "\n",
              "      async function convertToInteractive(key) {\n",
              "        const element = document.querySelector('#df-78187ee4-eff3-43df-8014-de49690b2ff1');\n",
              "        const dataTable =\n",
              "          await google.colab.kernel.invokeFunction('convertToInteractive',\n",
              "                                                    [key], {});\n",
              "        if (!dataTable) return;\n",
              "\n",
              "        const docLinkHtml = 'Like what you see? Visit the ' +\n",
              "          '<a target=\"_blank\" href=https://colab.research.google.com/notebooks/data_table.ipynb>data table notebook</a>'\n",
              "          + ' to learn more about interactive tables.';\n",
              "        element.innerHTML = '';\n",
              "        dataTable['output_type'] = 'display_data';\n",
              "        await google.colab.output.renderOutput(dataTable, element);\n",
              "        const docLink = document.createElement('div');\n",
              "        docLink.innerHTML = docLinkHtml;\n",
              "        element.appendChild(docLink);\n",
              "      }\n",
              "    </script>\n",
              "  </div>\n",
              "\n",
              "\n",
              "<div id=\"df-d0a380df-de8b-4c1a-b86e-8b873ce36d32\">\n",
              "  <button class=\"colab-df-quickchart\" onclick=\"quickchart('df-d0a380df-de8b-4c1a-b86e-8b873ce36d32')\"\n",
              "            title=\"Suggest charts\"\n",
              "            style=\"display:none;\">\n",
              "\n",
              "<svg xmlns=\"http://www.w3.org/2000/svg\" height=\"24px\"viewBox=\"0 0 24 24\"\n",
              "     width=\"24px\">\n",
              "    <g>\n",
              "        <path d=\"M19 3H5c-1.1 0-2 .9-2 2v14c0 1.1.9 2 2 2h14c1.1 0 2-.9 2-2V5c0-1.1-.9-2-2-2zM9 17H7v-7h2v7zm4 0h-2V7h2v10zm4 0h-2v-4h2v4z\"/>\n",
              "    </g>\n",
              "</svg>\n",
              "  </button>\n",
              "\n",
              "<style>\n",
              "  .colab-df-quickchart {\n",
              "      --bg-color: #E8F0FE;\n",
              "      --fill-color: #1967D2;\n",
              "      --hover-bg-color: #E2EBFA;\n",
              "      --hover-fill-color: #174EA6;\n",
              "      --disabled-fill-color: #AAA;\n",
              "      --disabled-bg-color: #DDD;\n",
              "  }\n",
              "\n",
              "  [theme=dark] .colab-df-quickchart {\n",
              "      --bg-color: #3B4455;\n",
              "      --fill-color: #D2E3FC;\n",
              "      --hover-bg-color: #434B5C;\n",
              "      --hover-fill-color: #FFFFFF;\n",
              "      --disabled-bg-color: #3B4455;\n",
              "      --disabled-fill-color: #666;\n",
              "  }\n",
              "\n",
              "  .colab-df-quickchart {\n",
              "    background-color: var(--bg-color);\n",
              "    border: none;\n",
              "    border-radius: 50%;\n",
              "    cursor: pointer;\n",
              "    display: none;\n",
              "    fill: var(--fill-color);\n",
              "    height: 32px;\n",
              "    padding: 0;\n",
              "    width: 32px;\n",
              "  }\n",
              "\n",
              "  .colab-df-quickchart:hover {\n",
              "    background-color: var(--hover-bg-color);\n",
              "    box-shadow: 0 1px 2px rgba(60, 64, 67, 0.3), 0 1px 3px 1px rgba(60, 64, 67, 0.15);\n",
              "    fill: var(--button-hover-fill-color);\n",
              "  }\n",
              "\n",
              "  .colab-df-quickchart-complete:disabled,\n",
              "  .colab-df-quickchart-complete:disabled:hover {\n",
              "    background-color: var(--disabled-bg-color);\n",
              "    fill: var(--disabled-fill-color);\n",
              "    box-shadow: none;\n",
              "  }\n",
              "\n",
              "  .colab-df-spinner {\n",
              "    border: 2px solid var(--fill-color);\n",
              "    border-color: transparent;\n",
              "    border-bottom-color: var(--fill-color);\n",
              "    animation:\n",
              "      spin 1s steps(1) infinite;\n",
              "  }\n",
              "\n",
              "  @keyframes spin {\n",
              "    0% {\n",
              "      border-color: transparent;\n",
              "      border-bottom-color: var(--fill-color);\n",
              "      border-left-color: var(--fill-color);\n",
              "    }\n",
              "    20% {\n",
              "      border-color: transparent;\n",
              "      border-left-color: var(--fill-color);\n",
              "      border-top-color: var(--fill-color);\n",
              "    }\n",
              "    30% {\n",
              "      border-color: transparent;\n",
              "      border-left-color: var(--fill-color);\n",
              "      border-top-color: var(--fill-color);\n",
              "      border-right-color: var(--fill-color);\n",
              "    }\n",
              "    40% {\n",
              "      border-color: transparent;\n",
              "      border-right-color: var(--fill-color);\n",
              "      border-top-color: var(--fill-color);\n",
              "    }\n",
              "    60% {\n",
              "      border-color: transparent;\n",
              "      border-right-color: var(--fill-color);\n",
              "    }\n",
              "    80% {\n",
              "      border-color: transparent;\n",
              "      border-right-color: var(--fill-color);\n",
              "      border-bottom-color: var(--fill-color);\n",
              "    }\n",
              "    90% {\n",
              "      border-color: transparent;\n",
              "      border-bottom-color: var(--fill-color);\n",
              "    }\n",
              "  }\n",
              "</style>\n",
              "\n",
              "  <script>\n",
              "    async function quickchart(key) {\n",
              "      const quickchartButtonEl =\n",
              "        document.querySelector('#' + key + ' button');\n",
              "      quickchartButtonEl.disabled = true;  // To prevent multiple clicks.\n",
              "      quickchartButtonEl.classList.add('colab-df-spinner');\n",
              "      try {\n",
              "        const charts = await google.colab.kernel.invokeFunction(\n",
              "            'suggestCharts', [key], {});\n",
              "      } catch (error) {\n",
              "        console.error('Error during call to suggestCharts:', error);\n",
              "      }\n",
              "      quickchartButtonEl.classList.remove('colab-df-spinner');\n",
              "      quickchartButtonEl.classList.add('colab-df-quickchart-complete');\n",
              "    }\n",
              "    (() => {\n",
              "      let quickchartButtonEl =\n",
              "        document.querySelector('#df-d0a380df-de8b-4c1a-b86e-8b873ce36d32 button');\n",
              "      quickchartButtonEl.style.display =\n",
              "        google.colab.kernel.accessAllowed ? 'block' : 'none';\n",
              "    })();\n",
              "  </script>\n",
              "</div>\n",
              "\n",
              "    </div>\n",
              "  </div>\n"
            ],
            "application/vnd.google.colaboratory.intrinsic+json": {
              "type": "dataframe",
              "repr_error": "0"
            }
          },
          "metadata": {},
          "execution_count": 26
        }
      ]
    },
    {
      "cell_type": "markdown",
      "source": [
        "## Numero di fatalità raggrupapto per nazione"
      ],
      "metadata": {
        "id": "bUmxhGVVJzuv"
      }
    },
    {
      "cell_type": "code",
      "source": [
        "fatalities_by_country=dataframe['fatalities'].groupby(dataframe['country']).sum().sort_values(ascending=False).head(10)"
      ],
      "metadata": {
        "id": "juHodllWBPwc"
      },
      "execution_count": null,
      "outputs": []
    },
    {
      "cell_type": "code",
      "source": [
        "plt.bar(fatalities_by_country.index, fatalities_by_country.values)\n",
        "plt.xticks(rotation=90)\n",
        "plt.xlabel(\"country\")\n",
        "plt.ylabel(\"fatalities\")\n",
        "plt.title(\"Fatalities by country\")"
      ],
      "metadata": {
        "colab": {
          "base_uri": "https://localhost:8080/",
          "height": 669
        },
        "id": "Qcp19jngIGAx",
        "outputId": "74f8fb62-ae7b-4d67-a5b2-3703229d2389"
      },
      "execution_count": null,
      "outputs": [
        {
          "output_type": "execute_result",
          "data": {
            "text/plain": [
              "Text(0.5, 1.0, 'Fatalities by country')"
            ]
          },
          "metadata": {},
          "execution_count": 42
        },
        {
          "output_type": "display_data",
          "data": {
            "text/plain": [
              "<Figure size 1200x600 with 1 Axes>"
            ],
            "image/png": "[encoded data removed]"
          },
          "metadata": {}
        }
      ]
    },
    {
      "cell_type": "markdown",
      "source": [
        "Le nazioni in cui si sono sviluppati più incidenti sono USA, Russia e Brasile."
      ],
      "metadata": {
        "id": "Zzm96L3m9-8G"
      }
    },
    {
      "cell_type": "markdown",
      "source": [
        "## Numero di fatalità raggruppato per compagnia aerea (peggiori compagnie aeree)"
      ],
      "metadata": {
        "id": "FbfyuPClJ7ud"
      }
    },
    {
      "cell_type": "code",
      "source": [
        "fatalities_by_bestoperator=dataframe['fatalities'].groupby(dataframe['operator']).sum().sort_values(ascending=False).head(10)"
      ],
      "metadata": {
        "id": "RcDEhALfJDk7"
      },
      "execution_count": null,
      "outputs": []
    },
    {
      "cell_type": "code",
      "source": [
        "plt.bar(fatalities_by_operator.index, fatalities_by_operator.values)\n",
        "plt.xticks(rotation=90)\n",
        "plt.xlabel(\"operator\")\n",
        "plt.ylabel(\"fatalities\")\n",
        "plt.title(\"Fatalities by operator\")"
      ],
      "metadata": {
        "colab": {
          "base_uri": "https://localhost:8080/",
          "height": 689
        },
        "id": "xvwH1ie7InUd",
        "outputId": "0fcb59c4-1119-489b-a03c-f0ec2e5b0856"
      },
      "execution_count": null,
      "outputs": [
        {
          "output_type": "execute_result",
          "data": {
            "text/plain": [
              "Text(0.5, 1.0, 'Fatalities by operator')"
            ]
          },
          "metadata": {},
          "execution_count": 45
        },
        {
          "output_type": "display_data",
          "data": {
            "text/plain": [
              "<Figure size 1200x600 with 1 Axes>"
            ],
            "image/png": "[encoded data removed]"
          },
          "metadata": {}
        }
      ]
    },
    {
      "cell_type": "markdown",
      "source": [
        "Gli operatori meno sicuri sono USAF USAAF e American Airlines."
      ],
      "metadata": {
        "id": "Qej-8EkY-N_W"
      }
    },
    {
      "cell_type": "markdown",
      "source": [
        "## Andamento delle morti per incidenti aerei negli anni"
      ],
      "metadata": {
        "id": "GDA2zxHYwvGw"
      }
    },
    {
      "cell_type": "code",
      "source": [
        "dataframe_grouped_byear=dataframe['fatalities'].groupby(dataframe['year']).sum()\n",
        "dataframe_grouped_byear"
      ],
      "metadata": {
        "colab": {
          "base_uri": "https://localhost:8080/",
          "height": 489
        },
        "id": "X2tG0IZcZZmt",
        "outputId": "523b265c-7233-451f-f678-4304be2114c5"
      },
      "execution_count": null,
      "outputs": [
        {
          "output_type": "execute_result",
          "data": {
            "text/plain": [
              "year\n",
              "1919      1\n",
              "1920      4\n",
              "1921      2\n",
              "1922      5\n",
              "1923      7\n",
              "       ... \n",
              "2019    469\n",
              "2020    428\n",
              "2021    321\n",
              "2022    281\n",
              "2023     88\n",
              "Name: fatalities, Length: 105, dtype: int64"
            ],
            "text/html": [
              "<div>\n",
              "<style scoped>\n",
              "    .dataframe tbody tr th:only-of-type {\n",
              "        vertical-align: middle;\n",
              "    }\n",
              "\n",
              "    .dataframe tbody tr th {\n",
              "        vertical-align: top;\n",
              "    }\n",
              "\n",
              "    .dataframe thead th {\n",
              "        text-align: right;\n",
              "    }\n",
              "</style>\n",
              "<table border=\"1\" class=\"dataframe\">\n",
              "  <thead>\n",
              "    <tr style=\"text-align: right;\">\n",
              "      <th></th>\n",
              "      <th>fatalities</th>\n",
              "    </tr>\n",
              "    <tr>\n",
              "      <th>year</th>\n",
              "      <th></th>\n",
              "    </tr>\n",
              "  </thead>\n",
              "  <tbody>\n",
              "    <tr>\n",
              "      <th>1919</th>\n",
              "      <td>1</td>\n",
              "    </tr>\n",
              "    <tr>\n",
              "      <th>1920</th>\n",
              "      <td>4</td>\n",
              "    </tr>\n",
              "    <tr>\n",
              "      <th>1921</th>\n",
              "      <td>2</td>\n",
              "    </tr>\n",
              "    <tr>\n",
              "      <th>1922</th>\n",
              "      <td>5</td>\n",
              "    </tr>\n",
              "    <tr>\n",
              "      <th>1923</th>\n",
              "      <td>7</td>\n",
              "    </tr>\n",
              "    <tr>\n",
              "      <th>...</th>\n",
              "      <td>...</td>\n",
              "    </tr>\n",
              "    <tr>\n",
              "      <th>2019</th>\n",
              "      <td>469</td>\n",
              "    </tr>\n",
              "    <tr>\n",
              "      <th>2020</th>\n",
              "      <td>428</td>\n",
              "    </tr>\n",
              "    <tr>\n",
              "      <th>2021</th>\n",
              "      <td>321</td>\n",
              "    </tr>\n",
              "    <tr>\n",
              "      <th>2022</th>\n",
              "      <td>281</td>\n",
              "    </tr>\n",
              "    <tr>\n",
              "      <th>2023</th>\n",
              "      <td>88</td>\n",
              "    </tr>\n",
              "  </tbody>\n",
              "</table>\n",
              "<p>105 rows × 1 columns</p>\n",
              "</div><br><label><b>dtype:</b> int64</label>"
            ]
          },
          "metadata": {},
          "execution_count": 16
        }
      ]
    },
    {
      "cell_type": "code",
      "source": [
        "import numpy as np\n",
        "plt.plot(np.arange(1919, 2024), dataframe_grouped_byear.values)\n",
        "plt.rcParams['figure.figsize'] = [12,6]\n",
        "plt.xticks(rotation=90)\n",
        "plt.xlabel(\"year\")\n",
        "plt.ylabel(\"fatalities\")\n",
        "plt.title(\"Fatalities by year\")\n",
        "plt.annotate(\"Nel 2001 c'è stato un numero molto elavato di morti\",xy=(2001,4000),xytext=(1949,4000), arrowprops=dict(facecolor='black', shrink=0.05))\n",
        "plt.show()"
      ],
      "metadata": {
        "colab": {
          "base_uri": "https://localhost:8080/",
          "height": 585
        },
        "id": "xj3QJraba0lP",
        "outputId": "b64098cb-14bc-4819-c3fd-11970c179088"
      },
      "execution_count": null,
      "outputs": [
        {
          "output_type": "display_data",
          "data": {
            "text/plain": [
              "<Figure size 1200x600 with 1 Axes>"
            ],
            "image/png": "[encoded data removed]"
          },
          "metadata": {}
        }
      ]
    },
    {
      "cell_type": "markdown",
      "source": [
        "L'andamento delle fatalità nel tempo è abbastanza costante tra il 1950 e il 2000, mentre è in diminuzione dal 2000 circa in poi. Come si può vedere dal grafico, nel 2001 c'è stato un numero molto elevato di morti legati probabilmente al crollo delle torri gemelle.  "
      ],
      "metadata": {
        "id": "wDavThSQ-bDY"
      }
    },
    {
      "cell_type": "code",
      "source": [],
      "metadata": {
        "id": "mF93bx3J-ql4"
      },
      "execution_count": null,
      "outputs": []
    }
  ]
}